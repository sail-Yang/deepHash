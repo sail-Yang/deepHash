{
 "cells": [
  {
   "cell_type": "code",
   "execution_count": null,
   "metadata": {},
   "outputs": [],
   "source": [
    "import torchvision.datasets as dsets\n",
    "dsets.CIFAR10"
   ]
  },
  {
   "cell_type": "code",
   "execution_count": 11,
   "metadata": {},
   "outputs": [
    {
     "data": {
      "text/plain": [
       "tensor([[False,  True,  True,  ...,  True,  True,  True],\n",
       "        [ True, False,  True,  ...,  True,  True,  True],\n",
       "        [ True,  True, False,  ...,  True,  True,  True],\n",
       "        ...,\n",
       "        [ True,  True,  True,  ..., False,  True,  True],\n",
       "        [ True,  True,  True,  ...,  True, False,  True],\n",
       "        [ True,  True,  True,  ...,  True,  True, False]])"
      ]
     },
     "execution_count": 11,
     "metadata": {},
     "output_type": "execute_result"
    }
   ],
   "source": [
    "import torch\n",
    "cls = torch.rand([256])\n",
    "cls.unsqueeze(0) != cls.unsqueeze(1)\n",
    "# y = (cls.unsqueeze(0) != cls.unsqueeze(1)).float().view(-1)\n",
    "# y.shape"
   ]
  },
  {
   "cell_type": "code",
   "execution_count": 27,
   "metadata": {},
   "outputs": [
    {
     "name": "stdout",
     "output_type": "stream",
     "text": [
      "tensor([[0.0468, 0.2885, 0.9503],\n",
      "        [0.9932, 0.4938, 0.5741]])\n",
      "tensor([0.0468, 0.2885, 0.9503, 0.9932, 0.4938, 0.5741])\n"
     ]
    }
   ],
   "source": [
    "y_hat = torch.rand([256,48])\n",
    "dist = ((y_hat.unsqueeze(0) - y_hat.unsqueeze(1)) ** 2).sum(dim=2).view(-1)\n",
    "dist.shape\n",
    "\n",
    "x = torch.rand([2,3])\n",
    "print(x)\n",
    "print(x.view(-1))"
   ]
  },
  {
   "cell_type": "code",
   "execution_count": 1,
   "metadata": {},
   "outputs": [],
   "source": [
    "import argparse\n",
    "import torch\n",
    "from utils.data import get_CIFAR10_data\n",
    "from utils.util import *\n",
    "import torch.nn as nn\n",
    "import torchvision\n",
    "\n"
   ]
  }
 ],
 "metadata": {
  "kernelspec": {
   "display_name": "pytorch3",
   "language": "python",
   "name": "pytorch"
  },
  "language_info": {
   "codemirror_mode": {
    "name": "ipython",
    "version": 3
   },
   "file_extension": ".py",
   "mimetype": "text/x-python",
   "name": "python",
   "nbconvert_exporter": "python",
   "pygments_lexer": "ipython3",
   "version": "3.9.19"
  }
 },
 "nbformat": 4,
 "nbformat_minor": 2
}
